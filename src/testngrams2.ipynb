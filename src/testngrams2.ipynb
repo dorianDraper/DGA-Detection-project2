{
    "cells": [
        {
            "cell_type": "markdown",
            "metadata": {},
            "source": [
                "# Explore here"
            ]
        },
        {
            "cell_type": "code",
            "execution_count": 36,
            "metadata": {},
            "outputs": [],
            "source": [
                "# Load Libraries\n",
                "import pandas as pd\n",
                "import numpy as np\n",
                "import regex as re\n",
                "from collections import Counter\n",
                "import pickle\n",
                "from pickle import dump\n",
                "from pickle import load\n",
                "from collections import Counter"
            ]
        },
        {
            "cell_type": "markdown",
            "metadata": {},
            "source": [
                "# EDA"
            ]
        },
        {
            "cell_type": "code",
            "execution_count": 27,
            "metadata": {},
            "outputs": [
                {
                    "data": {
                        "text/html": [
                            "<div>\n",
                            "<style scoped>\n",
                            "    .dataframe tbody tr th:only-of-type {\n",
                            "        vertical-align: middle;\n",
                            "    }\n",
                            "\n",
                            "    .dataframe tbody tr th {\n",
                            "        vertical-align: top;\n",
                            "    }\n",
                            "\n",
                            "    .dataframe thead th {\n",
                            "        text-align: right;\n",
                            "    }\n",
                            "</style>\n",
                            "<table border=\"1\" class=\"dataframe\">\n",
                            "  <thead>\n",
                            "    <tr style=\"text-align: right;\">\n",
                            "      <th></th>\n",
                            "      <th>isDGA</th>\n",
                            "      <th>domain</th>\n",
                            "      <th>host</th>\n",
                            "      <th>subclass</th>\n",
                            "    </tr>\n",
                            "  </thead>\n",
                            "  <tbody>\n",
                            "    <tr>\n",
                            "      <th>0</th>\n",
                            "      <td>dga</td>\n",
                            "      <td>tyopcrkqgxcfm</td>\n",
                            "      <td>tyopcrkqgxcfm.co.uk</td>\n",
                            "      <td>cryptolocker</td>\n",
                            "    </tr>\n",
                            "    <tr>\n",
                            "      <th>1</th>\n",
                            "      <td>dga</td>\n",
                            "      <td>72j5rn1l9mzleo6203v1ogenfl</td>\n",
                            "      <td>72j5rn1l9mzleo6203v1ogenfl.org</td>\n",
                            "      <td>gameoverdga</td>\n",
                            "    </tr>\n",
                            "    <tr>\n",
                            "      <th>2</th>\n",
                            "      <td>dga</td>\n",
                            "      <td>thenrest</td>\n",
                            "      <td>thenrest.net</td>\n",
                            "      <td>nivdort</td>\n",
                            "    </tr>\n",
                            "    <tr>\n",
                            "      <th>3</th>\n",
                            "      <td>dga</td>\n",
                            "      <td>15ihbm71utcnfa8dk1mmgoobl9</td>\n",
                            "      <td>15ihbm71utcnfa8dk1mmgoobl9.org</td>\n",
                            "      <td>gameoverdga</td>\n",
                            "    </tr>\n",
                            "    <tr>\n",
                            "      <th>4</th>\n",
                            "      <td>dga</td>\n",
                            "      <td>x1d6ou7e7kofk60ayhq74x7e</td>\n",
                            "      <td>x1d6ou7e7kofk60ayhq74x7e.net</td>\n",
                            "      <td>gameoverdga</td>\n",
                            "    </tr>\n",
                            "  </tbody>\n",
                            "</table>\n",
                            "</div>"
                        ],
                        "text/plain": [
                            "  isDGA                      domain                            host  \\\n",
                            "0   dga               tyopcrkqgxcfm             tyopcrkqgxcfm.co.uk   \n",
                            "1   dga  72j5rn1l9mzleo6203v1ogenfl  72j5rn1l9mzleo6203v1ogenfl.org   \n",
                            "2   dga                    thenrest                    thenrest.net   \n",
                            "3   dga  15ihbm71utcnfa8dk1mmgoobl9  15ihbm71utcnfa8dk1mmgoobl9.org   \n",
                            "4   dga    x1d6ou7e7kofk60ayhq74x7e    x1d6ou7e7kofk60ayhq74x7e.net   \n",
                            "\n",
                            "       subclass  \n",
                            "0  cryptolocker  \n",
                            "1   gameoverdga  \n",
                            "2       nivdort  \n",
                            "3   gameoverdga  \n",
                            "4   gameoverdga  "
                        ]
                    },
                    "execution_count": 27,
                    "metadata": {},
                    "output_type": "execute_result"
                }
            ],
            "source": [
                "df = pd.read_csv('C:/Users/Jorge Payà/Desktop/4Geeks/Final Project/Code/DGA-Detection-project2/data/raw/dga_data_small.csv')\n",
                "df.head()"
            ]
        },
        {
            "cell_type": "code",
            "execution_count": 28,
            "metadata": {},
            "outputs": [
                {
                    "name": "stdout",
                    "output_type": "stream",
                    "text": [
                        "(2000, 4)\n",
                        "isDGA       0\n",
                        "domain      0\n",
                        "host        0\n",
                        "subclass    0\n",
                        "dtype: int64\n"
                    ]
                }
            ],
            "source": [
                "print(df.shape)\n",
                "missing_values = df.isnull().sum()\n",
                "print(missing_values)"
            ]
        },
        {
            "cell_type": "code",
            "execution_count": 29,
            "metadata": {},
            "outputs": [
                {
                    "name": "stdout",
                    "output_type": "stream",
                    "text": [
                        "(2000, 4)\n"
                    ]
                }
            ],
            "source": [
                "# Drop the rows with missing values\n",
                "df = df.dropna()\n",
                "print(df.shape)"
            ]
        },
        {
            "cell_type": "code",
            "execution_count": 30,
            "metadata": {},
            "outputs": [
                {
                    "name": "stdout",
                    "output_type": "stream",
                    "text": [
                        "Distribution of the target variable: isDGA\n",
                        "DGA: 1000\n",
                        "Legit: 1000\n"
                    ]
                }
            ],
            "source": [
                "print(\"Distribution of the target variable: isDGA\")\n",
                "print(f\"DGA: {df['isDGA'].value_counts()['dga']}\")\n",
                "print(f\"Legit: {df['isDGA'].value_counts()['legit']}\")"
            ]
        },
        {
            "cell_type": "code",
            "execution_count": 31,
            "metadata": {},
            "outputs": [
                {
                    "data": {
                        "text/html": [
                            "<div>\n",
                            "<style scoped>\n",
                            "    .dataframe tbody tr th:only-of-type {\n",
                            "        vertical-align: middle;\n",
                            "    }\n",
                            "\n",
                            "    .dataframe tbody tr th {\n",
                            "        vertical-align: top;\n",
                            "    }\n",
                            "\n",
                            "    .dataframe thead th {\n",
                            "        text-align: right;\n",
                            "    }\n",
                            "</style>\n",
                            "<table border=\"1\" class=\"dataframe\">\n",
                            "  <thead>\n",
                            "    <tr style=\"text-align: right;\">\n",
                            "      <th></th>\n",
                            "      <th>isDGA</th>\n",
                            "      <th>domain</th>\n",
                            "    </tr>\n",
                            "  </thead>\n",
                            "  <tbody>\n",
                            "    <tr>\n",
                            "      <th>0</th>\n",
                            "      <td>dga</td>\n",
                            "      <td>tyopcrkqgxcfm</td>\n",
                            "    </tr>\n",
                            "    <tr>\n",
                            "      <th>1</th>\n",
                            "      <td>dga</td>\n",
                            "      <td>72j5rn1l9mzleo6203v1ogenfl</td>\n",
                            "    </tr>\n",
                            "    <tr>\n",
                            "      <th>2</th>\n",
                            "      <td>dga</td>\n",
                            "      <td>thenrest</td>\n",
                            "    </tr>\n",
                            "    <tr>\n",
                            "      <th>3</th>\n",
                            "      <td>dga</td>\n",
                            "      <td>15ihbm71utcnfa8dk1mmgoobl9</td>\n",
                            "    </tr>\n",
                            "    <tr>\n",
                            "      <th>4</th>\n",
                            "      <td>dga</td>\n",
                            "      <td>x1d6ou7e7kofk60ayhq74x7e</td>\n",
                            "    </tr>\n",
                            "  </tbody>\n",
                            "</table>\n",
                            "</div>"
                        ],
                        "text/plain": [
                            "  isDGA                      domain\n",
                            "0   dga               tyopcrkqgxcfm\n",
                            "1   dga  72j5rn1l9mzleo6203v1ogenfl\n",
                            "2   dga                    thenrest\n",
                            "3   dga  15ihbm71utcnfa8dk1mmgoobl9\n",
                            "4   dga    x1d6ou7e7kofk60ayhq74x7e"
                        ]
                    },
                    "execution_count": 31,
                    "metadata": {},
                    "output_type": "execute_result"
                }
            ],
            "source": [
                "# For our first model, we will use the feature named 'host' and the target variable 'isDGA'. In next experiments we will use other features such as subclass for clustering\n",
                "df.drop(['host', 'subclass'], axis=1, inplace=True)\n",
                "df.head()"
            ]
        },
        {
            "cell_type": "code",
            "execution_count": 32,
            "metadata": {},
            "outputs": [
                {
                    "data": {
                        "text/html": [
                            "<div>\n",
                            "<style scoped>\n",
                            "    .dataframe tbody tr th:only-of-type {\n",
                            "        vertical-align: middle;\n",
                            "    }\n",
                            "\n",
                            "    .dataframe tbody tr th {\n",
                            "        vertical-align: top;\n",
                            "    }\n",
                            "\n",
                            "    .dataframe thead th {\n",
                            "        text-align: right;\n",
                            "    }\n",
                            "</style>\n",
                            "<table border=\"1\" class=\"dataframe\">\n",
                            "  <thead>\n",
                            "    <tr style=\"text-align: right;\">\n",
                            "      <th></th>\n",
                            "      <th>isDGA</th>\n",
                            "      <th>domain</th>\n",
                            "    </tr>\n",
                            "  </thead>\n",
                            "  <tbody>\n",
                            "    <tr>\n",
                            "      <th>0</th>\n",
                            "      <td>1</td>\n",
                            "      <td>tyopcrkqgxcfm</td>\n",
                            "    </tr>\n",
                            "    <tr>\n",
                            "      <th>1</th>\n",
                            "      <td>1</td>\n",
                            "      <td>72j5rn1l9mzleo6203v1ogenfl</td>\n",
                            "    </tr>\n",
                            "    <tr>\n",
                            "      <th>2</th>\n",
                            "      <td>1</td>\n",
                            "      <td>thenrest</td>\n",
                            "    </tr>\n",
                            "    <tr>\n",
                            "      <th>3</th>\n",
                            "      <td>1</td>\n",
                            "      <td>15ihbm71utcnfa8dk1mmgoobl9</td>\n",
                            "    </tr>\n",
                            "    <tr>\n",
                            "      <th>4</th>\n",
                            "      <td>1</td>\n",
                            "      <td>x1d6ou7e7kofk60ayhq74x7e</td>\n",
                            "    </tr>\n",
                            "  </tbody>\n",
                            "</table>\n",
                            "</div>"
                        ],
                        "text/plain": [
                            "   isDGA                      domain\n",
                            "0      1               tyopcrkqgxcfm\n",
                            "1      1  72j5rn1l9mzleo6203v1ogenfl\n",
                            "2      1                    thenrest\n",
                            "3      1  15ihbm71utcnfa8dk1mmgoobl9\n",
                            "4      1    x1d6ou7e7kofk60ayhq74x7e"
                        ]
                    },
                    "execution_count": 32,
                    "metadata": {},
                    "output_type": "execute_result"
                }
            ],
            "source": [
                "df['isDGA'] = df['isDGA'].apply(lambda x: 1 if x == 'dga' else 0)\n",
                "df.head()"
            ]
        },
        {
            "cell_type": "code",
            "execution_count": 33,
            "metadata": {},
            "outputs": [
                {
                    "data": {
                        "text/html": [
                            "<div>\n",
                            "<style scoped>\n",
                            "    .dataframe tbody tr th:only-of-type {\n",
                            "        vertical-align: middle;\n",
                            "    }\n",
                            "\n",
                            "    .dataframe tbody tr th {\n",
                            "        vertical-align: top;\n",
                            "    }\n",
                            "\n",
                            "    .dataframe thead th {\n",
                            "        text-align: right;\n",
                            "    }\n",
                            "</style>\n",
                            "<table border=\"1\" class=\"dataframe\">\n",
                            "  <thead>\n",
                            "    <tr style=\"text-align: right;\">\n",
                            "      <th></th>\n",
                            "      <th>isDGA</th>\n",
                            "      <th>domain</th>\n",
                            "      <th>d_length</th>\n",
                            "    </tr>\n",
                            "  </thead>\n",
                            "  <tbody>\n",
                            "    <tr>\n",
                            "      <th>0</th>\n",
                            "      <td>1</td>\n",
                            "      <td>tyopcrkqgxcfm</td>\n",
                            "      <td>13</td>\n",
                            "    </tr>\n",
                            "    <tr>\n",
                            "      <th>1</th>\n",
                            "      <td>1</td>\n",
                            "      <td>72j5rn1l9mzleo6203v1ogenfl</td>\n",
                            "      <td>26</td>\n",
                            "    </tr>\n",
                            "    <tr>\n",
                            "      <th>2</th>\n",
                            "      <td>1</td>\n",
                            "      <td>thenrest</td>\n",
                            "      <td>8</td>\n",
                            "    </tr>\n",
                            "    <tr>\n",
                            "      <th>3</th>\n",
                            "      <td>1</td>\n",
                            "      <td>15ihbm71utcnfa8dk1mmgoobl9</td>\n",
                            "      <td>26</td>\n",
                            "    </tr>\n",
                            "    <tr>\n",
                            "      <th>4</th>\n",
                            "      <td>1</td>\n",
                            "      <td>x1d6ou7e7kofk60ayhq74x7e</td>\n",
                            "      <td>24</td>\n",
                            "    </tr>\n",
                            "  </tbody>\n",
                            "</table>\n",
                            "</div>"
                        ],
                        "text/plain": [
                            "   isDGA                      domain  d_length\n",
                            "0      1               tyopcrkqgxcfm        13\n",
                            "1      1  72j5rn1l9mzleo6203v1ogenfl        26\n",
                            "2      1                    thenrest         8\n",
                            "3      1  15ihbm71utcnfa8dk1mmgoobl9        26\n",
                            "4      1    x1d6ou7e7kofk60ayhq74x7e        24"
                        ]
                    },
                    "execution_count": 33,
                    "metadata": {},
                    "output_type": "execute_result"
                }
            ],
            "source": [
                "df['d_length'] = df['domain'].apply(lambda x: len(x))\n",
                "df.head()"
            ]
        },
        {
            "cell_type": "code",
            "execution_count": 34,
            "metadata": {},
            "outputs": [
                {
                    "data": {
                        "text/html": [
                            "<div>\n",
                            "<style scoped>\n",
                            "    .dataframe tbody tr th:only-of-type {\n",
                            "        vertical-align: middle;\n",
                            "    }\n",
                            "\n",
                            "    .dataframe tbody tr th {\n",
                            "        vertical-align: top;\n",
                            "    }\n",
                            "\n",
                            "    .dataframe thead th {\n",
                            "        text-align: right;\n",
                            "    }\n",
                            "</style>\n",
                            "<table border=\"1\" class=\"dataframe\">\n",
                            "  <thead>\n",
                            "    <tr style=\"text-align: right;\">\n",
                            "      <th></th>\n",
                            "      <th>isDGA</th>\n",
                            "      <th>domain</th>\n",
                            "      <th>d_length</th>\n",
                            "      <th>entropy</th>\n",
                            "    </tr>\n",
                            "  </thead>\n",
                            "  <tbody>\n",
                            "    <tr>\n",
                            "      <th>0</th>\n",
                            "      <td>1</td>\n",
                            "      <td>tyopcrkqgxcfm</td>\n",
                            "      <td>13</td>\n",
                            "      <td>3.546594</td>\n",
                            "    </tr>\n",
                            "    <tr>\n",
                            "      <th>1</th>\n",
                            "      <td>1</td>\n",
                            "      <td>72j5rn1l9mzleo6203v1ogenfl</td>\n",
                            "      <td>26</td>\n",
                            "      <td>4.132944</td>\n",
                            "    </tr>\n",
                            "    <tr>\n",
                            "      <th>2</th>\n",
                            "      <td>1</td>\n",
                            "      <td>thenrest</td>\n",
                            "      <td>8</td>\n",
                            "      <td>2.500000</td>\n",
                            "    </tr>\n",
                            "    <tr>\n",
                            "      <th>3</th>\n",
                            "      <td>1</td>\n",
                            "      <td>15ihbm71utcnfa8dk1mmgoobl9</td>\n",
                            "      <td>26</td>\n",
                            "      <td>4.180833</td>\n",
                            "    </tr>\n",
                            "    <tr>\n",
                            "      <th>4</th>\n",
                            "      <td>1</td>\n",
                            "      <td>x1d6ou7e7kofk60ayhq74x7e</td>\n",
                            "      <td>24</td>\n",
                            "      <td>3.834963</td>\n",
                            "    </tr>\n",
                            "  </tbody>\n",
                            "</table>\n",
                            "</div>"
                        ],
                        "text/plain": [
                            "   isDGA                      domain  d_length   entropy\n",
                            "0      1               tyopcrkqgxcfm        13  3.546594\n",
                            "1      1  72j5rn1l9mzleo6203v1ogenfl        26  4.132944\n",
                            "2      1                    thenrest         8  2.500000\n",
                            "3      1  15ihbm71utcnfa8dk1mmgoobl9        26  4.180833\n",
                            "4      1    x1d6ou7e7kofk60ayhq74x7e        24  3.834963"
                        ]
                    },
                    "execution_count": 34,
                    "metadata": {},
                    "output_type": "execute_result"
                }
            ],
            "source": [
                "# function to get the entropy of a domain name\n",
                "def entropy(domain):\n",
                "    p, lns = Counter(domain), float(len(domain))\n",
                "    return -sum( count/lns * np.log2(count/lns) for count in p.values())\n",
                "\n",
                "df['entropy'] = df['domain'].apply(entropy)\n",
                "df.head()"
            ]
        },
        {
            "cell_type": "code",
            "execution_count": null,
            "metadata": {},
            "outputs": [],
            "source": []
        }
    ],
    "metadata": {
        "kernelspec": {
            "display_name": "Python 3.8.13 64-bit ('3.8.13')",
            "language": "python",
            "name": "python3"
        },
        "language_info": {
            "codemirror_mode": {
                "name": "ipython",
                "version": 3
            },
            "file_extension": ".py",
            "mimetype": "text/x-python",
            "name": "python",
            "nbconvert_exporter": "python",
            "pygments_lexer": "ipython3",
            "version": "3.11.3"
        },
        "orig_nbformat": 4,
        "vscode": {
            "interpreter": {
                "hash": "110cc1dee26208153f2972f08a2ad52b6a56238dc66d48e87fb757ef2996db56"
            }
        }
    },
    "nbformat": 4,
    "nbformat_minor": 2
}
