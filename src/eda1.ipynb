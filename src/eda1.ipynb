{
    "cells": [
        {
            "cell_type": "markdown",
            "metadata": {},
            "source": [
                "# Explore here"
            ]
        },
        {
            "cell_type": "code",
            "execution_count": 2,
            "metadata": {},
            "outputs": [],
            "source": [
                "# Load Libraries\n",
                "import pandas as pd\n",
                "import numpy as np\n",
                "import regex as re\n",
                "from collections import Counter\n",
                "\n",
                "import matplotlib.pyplot as plt\n",
                "import seaborn as sns\n",
                "\n",
                "from sklearn.model_selection import train_test_split\n",
                "from sklearn.tree import DecisionTreeClassifier\n",
                "from sklearn.metrics import accuracy_score  \n",
                "from sklearn.model_selection import GridSearchCV\n",
                "from sklearn.ensemble import RandomForestClassifier\n",
                "from sklearn.neighbors import KNeighborsClassifier\n",
                "from sklearn.neighbors import NearestNeighbors\n",
                "from sklearn.model_selection import RandomizedSearchCV\n",
                "from xgboost import XGBClassifier\n",
                "from sklearn.ensemble import GradientBoostingClassifier\n",
                "from sklearn.metrics import classification_report\n",
                "\n",
                "from pickle import dump\n",
                "from pickle import load"
            ]
        },
        {
            "cell_type": "markdown",
            "metadata": {},
            "source": [
                "# EDA"
            ]
        },
        {
            "cell_type": "code",
            "execution_count": 13,
            "metadata": {},
            "outputs": [
                {
                    "data": {
                        "text/html": [
                            "<div>\n",
                            "<style scoped>\n",
                            "    .dataframe tbody tr th:only-of-type {\n",
                            "        vertical-align: middle;\n",
                            "    }\n",
                            "\n",
                            "    .dataframe tbody tr th {\n",
                            "        vertical-align: top;\n",
                            "    }\n",
                            "\n",
                            "    .dataframe thead th {\n",
                            "        text-align: right;\n",
                            "    }\n",
                            "</style>\n",
                            "<table border=\"1\" class=\"dataframe\">\n",
                            "  <thead>\n",
                            "    <tr style=\"text-align: right;\">\n",
                            "      <th></th>\n",
                            "      <th>isDGA</th>\n",
                            "      <th>domain</th>\n",
                            "      <th>host</th>\n",
                            "      <th>subclass</th>\n",
                            "    </tr>\n",
                            "  </thead>\n",
                            "  <tbody>\n",
                            "    <tr>\n",
                            "      <th>0</th>\n",
                            "      <td>dga</td>\n",
                            "      <td>6xzxsw3sokvg1tc752y1a6p0af</td>\n",
                            "      <td>6xzxsw3sokvg1tc752y1a6p0af.com</td>\n",
                            "      <td>gameoverdga</td>\n",
                            "    </tr>\n",
                            "    <tr>\n",
                            "      <th>1</th>\n",
                            "      <td>dga</td>\n",
                            "      <td>glbtlxwwhbnpxs</td>\n",
                            "      <td>glbtlxwwhbnpxs.ru</td>\n",
                            "      <td>cryptolocker</td>\n",
                            "    </tr>\n",
                            "    <tr>\n",
                            "      <th>2</th>\n",
                            "      <td>dga</td>\n",
                            "      <td>xxmamopyipbfpk</td>\n",
                            "      <td>xxmamopyipbfpk.ru</td>\n",
                            "      <td>cryptolocker</td>\n",
                            "    </tr>\n",
                            "    <tr>\n",
                            "      <th>3</th>\n",
                            "      <td>dga</td>\n",
                            "      <td>zfd5szpi18i85wj9uy13l69rg</td>\n",
                            "      <td>zfd5szpi18i85wj9uy13l69rg.net</td>\n",
                            "      <td>newgoz</td>\n",
                            "    </tr>\n",
                            "    <tr>\n",
                            "      <th>4</th>\n",
                            "      <td>dga</td>\n",
                            "      <td>jpqftymiuver</td>\n",
                            "      <td>jpqftymiuver.ru</td>\n",
                            "      <td>cryptolocker</td>\n",
                            "    </tr>\n",
                            "  </tbody>\n",
                            "</table>\n",
                            "</div>"
                        ],
                        "text/plain": [
                            "  isDGA                      domain                            host  \\\n",
                            "0   dga  6xzxsw3sokvg1tc752y1a6p0af  6xzxsw3sokvg1tc752y1a6p0af.com   \n",
                            "1   dga              glbtlxwwhbnpxs               glbtlxwwhbnpxs.ru   \n",
                            "2   dga              xxmamopyipbfpk               xxmamopyipbfpk.ru   \n",
                            "3   dga   zfd5szpi18i85wj9uy13l69rg   zfd5szpi18i85wj9uy13l69rg.net   \n",
                            "4   dga                jpqftymiuver                 jpqftymiuver.ru   \n",
                            "\n",
                            "       subclass  \n",
                            "0   gameoverdga  \n",
                            "1  cryptolocker  \n",
                            "2  cryptolocker  \n",
                            "3        newgoz  \n",
                            "4  cryptolocker  "
                        ]
                    },
                    "execution_count": 13,
                    "metadata": {},
                    "output_type": "execute_result"
                }
            ],
            "source": [
                "df = pd.read_csv('C:/Users/Jorge Payà/Desktop/4Geeks/Final Project/Code/DGA-Detection-project2/data/raw/dga_data_full.csv')\n",
                "df.head()"
            ]
        },
        {
            "cell_type": "code",
            "execution_count": 14,
            "metadata": {},
            "outputs": [
                {
                    "name": "stdout",
                    "output_type": "stream",
                    "text": [
                        "<class 'pandas.core.frame.DataFrame'>\n",
                        "RangeIndex: 160000 entries, 0 to 159999\n",
                        "Data columns (total 4 columns):\n",
                        " #   Column    Non-Null Count   Dtype \n",
                        "---  ------    --------------   ----- \n",
                        " 0   isDGA     160000 non-null  object\n",
                        " 1   domain    159998 non-null  object\n",
                        " 2   host      160000 non-null  object\n",
                        " 3   subclass  160000 non-null  object\n",
                        "dtypes: object(4)\n",
                        "memory usage: 4.9+ MB\n"
                    ]
                }
            ],
            "source": [
                "df.info()"
            ]
        },
        {
            "cell_type": "code",
            "execution_count": 16,
            "metadata": {},
            "outputs": [
                {
                    "name": "stdout",
                    "output_type": "stream",
                    "text": [
                        "(160000, 4)\n",
                        "isDGA       0\n",
                        "domain      2\n",
                        "host        0\n",
                        "subclass    0\n",
                        "dtype: int64\n"
                    ]
                }
            ],
            "source": [
                "print(df.shape)\n",
                "missing_values = df.isnull().sum()\n",
                "print(missing_values)"
            ]
        },
        {
            "cell_type": "code",
            "execution_count": 17,
            "metadata": {},
            "outputs": [
                {
                    "name": "stdout",
                    "output_type": "stream",
                    "text": [
                        "(159998, 4)\n"
                    ]
                }
            ],
            "source": [
                "# Drop the rows with missing values\n",
                "df = df.dropna()\n",
                "print(df.shape)"
            ]
        },
        {
            "cell_type": "code",
            "execution_count": 18,
            "metadata": {},
            "outputs": [
                {
                    "name": "stdout",
                    "output_type": "stream",
                    "text": [
                        "Dimensions of the data before dropping duplicates: (159998, 4)\n",
                        "Number of duplicate rows: 0\n",
                        "Dimesions of the data after dropping duplicates: (159998, 4)\n"
                    ]
                }
            ],
            "source": [
                "print(f\"Dimensions of the data before dropping duplicates: {df.shape}\")\n",
                "duplicates = df.duplicated().sum()\n",
                "print(f\"Number of duplicate rows: {duplicates}\")\n",
                "df = df.drop_duplicates()\n",
                "print(f\"Dimesions of the data after dropping duplicates: {df.shape}\")"
            ]
        },
        {
            "cell_type": "code",
            "execution_count": 19,
            "metadata": {},
            "outputs": [
                {
                    "name": "stdout",
                    "output_type": "stream",
                    "text": [
                        "Distribution of the target variable: isDGA\n",
                        "DGA: 80000\n",
                        "Legit: 79998\n"
                    ]
                }
            ],
            "source": [
                "print(\"Distribution of the target variable: isDGA\")\n",
                "print(f\"DGA: {df['isDGA'].value_counts()['dga']}\")\n",
                "print(f\"Legit: {df['isDGA'].value_counts()['legit']}\")"
            ]
        },
        {
            "cell_type": "code",
            "execution_count": 20,
            "metadata": {},
            "outputs": [
                {
                    "data": {
                        "text/html": [
                            "<div>\n",
                            "<style scoped>\n",
                            "    .dataframe tbody tr th:only-of-type {\n",
                            "        vertical-align: middle;\n",
                            "    }\n",
                            "\n",
                            "    .dataframe tbody tr th {\n",
                            "        vertical-align: top;\n",
                            "    }\n",
                            "\n",
                            "    .dataframe thead th {\n",
                            "        text-align: right;\n",
                            "    }\n",
                            "</style>\n",
                            "<table border=\"1\" class=\"dataframe\">\n",
                            "  <thead>\n",
                            "    <tr style=\"text-align: right;\">\n",
                            "      <th></th>\n",
                            "      <th>isDGA</th>\n",
                            "      <th>host</th>\n",
                            "    </tr>\n",
                            "  </thead>\n",
                            "  <tbody>\n",
                            "    <tr>\n",
                            "      <th>0</th>\n",
                            "      <td>dga</td>\n",
                            "      <td>6xzxsw3sokvg1tc752y1a6p0af.com</td>\n",
                            "    </tr>\n",
                            "    <tr>\n",
                            "      <th>1</th>\n",
                            "      <td>dga</td>\n",
                            "      <td>glbtlxwwhbnpxs.ru</td>\n",
                            "    </tr>\n",
                            "    <tr>\n",
                            "      <th>2</th>\n",
                            "      <td>dga</td>\n",
                            "      <td>xxmamopyipbfpk.ru</td>\n",
                            "    </tr>\n",
                            "    <tr>\n",
                            "      <th>3</th>\n",
                            "      <td>dga</td>\n",
                            "      <td>zfd5szpi18i85wj9uy13l69rg.net</td>\n",
                            "    </tr>\n",
                            "    <tr>\n",
                            "      <th>4</th>\n",
                            "      <td>dga</td>\n",
                            "      <td>jpqftymiuver.ru</td>\n",
                            "    </tr>\n",
                            "  </tbody>\n",
                            "</table>\n",
                            "</div>"
                        ],
                        "text/plain": [
                            "  isDGA                            host\n",
                            "0   dga  6xzxsw3sokvg1tc752y1a6p0af.com\n",
                            "1   dga               glbtlxwwhbnpxs.ru\n",
                            "2   dga               xxmamopyipbfpk.ru\n",
                            "3   dga   zfd5szpi18i85wj9uy13l69rg.net\n",
                            "4   dga                 jpqftymiuver.ru"
                        ]
                    },
                    "execution_count": 20,
                    "metadata": {},
                    "output_type": "execute_result"
                }
            ],
            "source": [
                "# For our first model, we will use the feature named 'host' and the target variable 'isDGA'. In next experiments we will use other features such as subclass for clustering\n",
                "df.drop(['domain', 'subclass'], axis=1, inplace=True)\n",
                "df.head()"
            ]
        },
        {
            "cell_type": "code",
            "execution_count": 21,
            "metadata": {},
            "outputs": [],
            "source": [
                "df.rename(columns={'host': 'domain_name'}, inplace=True)"
            ]
        },
        {
            "cell_type": "code",
            "execution_count": null,
            "metadata": {},
            "outputs": [],
            "source": []
        },
        {
            "cell_type": "code",
            "execution_count": null,
            "metadata": {},
            "outputs": [],
            "source": []
        },
        {
            "cell_type": "code",
            "execution_count": null,
            "metadata": {},
            "outputs": [],
            "source": [
                "df['isDGA'] = df['isDGA'].apply(lambda x: 1 if x == 'dga' else 0)\n",
                "df.head()"
            ]
        }
    ],
    "metadata": {
        "kernelspec": {
            "display_name": "Python 3.8.13 64-bit ('3.8.13')",
            "language": "python",
            "name": "python3"
        },
        "language_info": {
            "codemirror_mode": {
                "name": "ipython",
                "version": 3
            },
            "file_extension": ".py",
            "mimetype": "text/x-python",
            "name": "python",
            "nbconvert_exporter": "python",
            "pygments_lexer": "ipython3",
            "version": "3.11.3"
        },
        "orig_nbformat": 4,
        "vscode": {
            "interpreter": {
                "hash": "110cc1dee26208153f2972f08a2ad52b6a56238dc66d48e87fb757ef2996db56"
            }
        }
    },
    "nbformat": 4,
    "nbformat_minor": 2
}
