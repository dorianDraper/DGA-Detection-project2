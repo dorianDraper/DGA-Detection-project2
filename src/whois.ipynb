{
 "cells": [
  {
   "cell_type": "code",
   "execution_count": 1,
   "metadata": {},
   "outputs": [],
   "source": [
    "import pandas as pd\n",
    "import numpy as np\n",
    "import whois"
   ]
  },
  {
   "cell_type": "code",
   "execution_count": 5,
   "metadata": {},
   "outputs": [
    {
     "name": "stdout",
     "output_type": "stream",
     "text": [
      "{\n",
      "  \"domain_name\": \"FACEBOOK.COM\",\n",
      "  \"registrar\": \"RegistrarSafe, LLC\",\n",
      "  \"whois_server\": \"whois.registrarsafe.com\",\n",
      "  \"referral_url\": null,\n",
      "  \"updated_date\": [\n",
      "    \"2024-04-24 19:06:12\",\n",
      "    \"2024-04-24 19:06:13\"\n",
      "  ],\n",
      "  \"creation_date\": \"1997-03-29 05:00:00\",\n",
      "  \"expiration_date\": \"2033-03-30 04:00:00\",\n",
      "  \"name_servers\": [\n",
      "    \"A.NS.FACEBOOK.COM\",\n",
      "    \"B.NS.FACEBOOK.COM\",\n",
      "    \"C.NS.FACEBOOK.COM\",\n",
      "    \"D.NS.FACEBOOK.COM\"\n",
      "  ],\n",
      "  \"status\": [\n",
      "    \"clientDeleteProhibited https://icann.org/epp#clientDeleteProhibited\",\n",
      "    \"clientTransferProhibited https://icann.org/epp#clientTransferProhibited\",\n",
      "    \"clientUpdateProhibited https://icann.org/epp#clientUpdateProhibited\",\n",
      "    \"serverDeleteProhibited https://icann.org/epp#serverDeleteProhibited\",\n",
      "    \"serverTransferProhibited https://icann.org/epp#serverTransferProhibited\",\n",
      "    \"serverUpdateProhibited https://icann.org/epp#serverUpdateProhibited\",\n",
      "    \"clientDeleteProhibited https://www.icann.org/epp#clientDeleteProhibited\",\n",
      "    \"clientTransferProhibited https://www.icann.org/epp#clientTransferProhibited\",\n",
      "    \"clientUpdateProhibited https://www.icann.org/epp#clientUpdateProhibited\",\n",
      "    \"serverDeleteProhibited https://www.icann.org/epp#serverDeleteProhibited\",\n",
      "    \"serverTransferProhibited https://www.icann.org/epp#serverTransferProhibited\",\n",
      "    \"serverUpdateProhibited https://www.icann.org/epp#serverUpdateProhibited\"\n",
      "  ],\n",
      "  \"emails\": [\n",
      "    \"abusecomplaints@registrarsafe.com\",\n",
      "    \"domain@fb.com\"\n",
      "  ],\n",
      "  \"dnssec\": \"unsigned\",\n",
      "  \"name\": \"Domain Admin\",\n",
      "  \"org\": \"Meta Platforms, Inc.\",\n",
      "  \"address\": \"1601 Willow Rd\",\n",
      "  \"city\": \"Menlo Park\",\n",
      "  \"state\": \"CA\",\n",
      "  \"registrant_postal_code\": \"94025\",\n",
      "  \"country\": \"US\"\n",
      "}\n"
     ]
    }
   ],
   "source": [
    "res = whois.whois('facebook.com')\n",
    "print(res)"
   ]
  },
  {
   "cell_type": "code",
   "execution_count": null,
   "metadata": {},
   "outputs": [],
   "source": []
  }
 ],
 "metadata": {
  "kernelspec": {
   "display_name": "Python 3",
   "language": "python",
   "name": "python3"
  },
  "language_info": {
   "codemirror_mode": {
    "name": "ipython",
    "version": 3
   },
   "file_extension": ".py",
   "mimetype": "text/x-python",
   "name": "python",
   "nbconvert_exporter": "python",
   "pygments_lexer": "ipython3",
   "version": "3.11.3"
  }
 },
 "nbformat": 4,
 "nbformat_minor": 2
}
